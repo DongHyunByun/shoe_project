{
 "cells": [
  {
   "cell_type": "code",
   "execution_count": 21,
   "metadata": {},
   "outputs": [],
   "source": [
    "import gpxpy\n",
    "import os\n",
    "import pandas as pd\n",
    "\n",
    "def parsegpx(f):\n",
    "    points2 = []\n",
    "    with open(\"folder\\\\\"+f,'r') as gpxfile:\n",
    "        gpx = gpxpy.parse(gpxfile)\n",
    "        for track in gpx.tracks:\n",
    "            for segment in track.segments:\n",
    "                for point in segment.points:\n",
    "                    dict = {\n",
    "                            'Timestamp':point.time,\n",
    "                            'Latitude' : point.latitude,\n",
    "                            'Longitude' : point.longitude,\n",
    "                            'Elevation' : point.elevation,\n",
    "                            'shoe_size' : shoe_size,\n",
    "                            'key' : key\n",
    "                            }\n",
    "                    points2.append(dict)\n",
    "\n",
    "    return points2"
   ]
  },
  {
   "cell_type": "code",
   "execution_count": 22,
   "metadata": {},
   "outputs": [
    {
     "name": "stdout",
     "output_type": "stream",
     "text": [
      "['3434490730.gpx', '3436180747.gpx', '3445620439.gpx', '3447464446.gpx', '3458819452.gpx', '3460583617.gpx', '3462639643.gpx']\n"
     ]
    }
   ],
   "source": [
    "\n",
    "#본인의 신발 사이즈 및 key값을 입력하세요.\n",
    "shoe_size = 265\n",
    "key = 12\n",
    "\n",
    "files = os.listdir(\"folder\")\n",
    "print(files)\n",
    "\n",
    "for f in files :\n",
    "    df2 = pd.DataFrame(parsegpx(f))\n",
    "    df2.to_csv(f[:-3]+\"csv\")\n"
   ]
  }
 ],
 "metadata": {
  "kernelspec": {
   "display_name": "Python 3",
   "language": "python",
   "name": "python3"
  },
  "language_info": {
   "codemirror_mode": {
    "name": "ipython",
    "version": 3
   },
   "file_extension": ".py",
   "mimetype": "text/x-python",
   "name": "python",
   "nbconvert_exporter": "python",
   "pygments_lexer": "ipython3",
   "version": "3.7.3"
  }
 },
 "nbformat": 4,
 "nbformat_minor": 2
}
